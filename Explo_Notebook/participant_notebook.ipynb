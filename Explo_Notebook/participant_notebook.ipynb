{
 "cells": [
  {
   "cell_type": "code",
   "execution_count": 1,
   "metadata": {},
   "outputs": [],
   "source": [
    "%matplotlib inline\n",
    "import os\n",
    "import numpy as np\n",
    "import matplotlib.pyplot as plt\n",
    "import pandas as pd\n",
    "import seaborn as sns"
   ]
  },
  {
   "cell_type": "code",
   "execution_count": 4,
   "metadata": {},
   "outputs": [
    {
     "data": {
      "text/plain": [
       "{'columns': ['participant_id',\n",
       "  'session',\n",
       "  'sex',\n",
       "  'age',\n",
       "  'diagnosis',\n",
       "  'study',\n",
       "  'site',\n",
       "  'TIV',\n",
       "  'CSF_Vol',\n",
       "  'GM_Vol',\n",
       "  'WM_Vol'],\n",
       " 'shape': (410, 11),\n",
       " 'class_distribution': diagnosis\n",
       " control          222\n",
       " schizophrenia    188\n",
       " Name: count, dtype: int64}"
      ]
     },
     "execution_count": 4,
     "metadata": {},
     "output_type": "execute_result"
    }
   ],
   "source": [
    "train_participants_path=r\"C:\\Users\\chemm\\OneDrive\\Bureau\\cours\\MOSEF\\Machine Learning\\brain_anatomy_schizophrenia_IMSD-GRA-MOSEF_2024\\data\\train_participants.csv\"\n",
    "# Load and analyze the train_participants dataset\n",
    "train_participants = pd.read_csv(train_participants_path)\n",
    "\n",
    "# Overview of the dataset\n",
    "train_participants_overview = {\n",
    "    \"columns\": train_participants.columns.tolist(),\n",
    "    \"shape\": train_participants.shape,\n",
    "    \"class_distribution\": train_participants['diagnosis'].value_counts() if 'diagnosis' in train_participants.columns else \"No diagnosis column\"\n",
    "}\n",
    "\n",
    "# Display summary of the train participants dataset\n",
    "train_participants_overview\n"
   ]
  },
  {
   "cell_type": "code",
   "execution_count": 5,
   "metadata": {},
   "outputs": [
    {
     "data": {
      "text/html": [
       "<div>\n",
       "<style scoped>\n",
       "    .dataframe tbody tr th:only-of-type {\n",
       "        vertical-align: middle;\n",
       "    }\n",
       "\n",
       "    .dataframe tbody tr th {\n",
       "        vertical-align: top;\n",
       "    }\n",
       "\n",
       "    .dataframe thead th {\n",
       "        text-align: right;\n",
       "    }\n",
       "</style>\n",
       "<table border=\"1\" class=\"dataframe\">\n",
       "  <thead>\n",
       "    <tr style=\"text-align: right;\">\n",
       "      <th></th>\n",
       "      <th>participant_id</th>\n",
       "      <th>session</th>\n",
       "      <th>sex</th>\n",
       "      <th>age</th>\n",
       "      <th>diagnosis</th>\n",
       "      <th>study</th>\n",
       "      <th>site</th>\n",
       "      <th>TIV</th>\n",
       "      <th>CSF_Vol</th>\n",
       "      <th>GM_Vol</th>\n",
       "      <th>WM_Vol</th>\n",
       "    </tr>\n",
       "  </thead>\n",
       "  <tbody>\n",
       "    <tr>\n",
       "      <th>0</th>\n",
       "      <td>CH7098a</td>\n",
       "      <td>V1</td>\n",
       "      <td>0.0</td>\n",
       "      <td>20.0</td>\n",
       "      <td>schizophrenia</td>\n",
       "      <td>SCHIZCONNECT-VIP</td>\n",
       "      <td>NU</td>\n",
       "      <td>1712.357084</td>\n",
       "      <td>375.529152</td>\n",
       "      <td>747.089338</td>\n",
       "      <td>586.391159</td>\n",
       "    </tr>\n",
       "    <tr>\n",
       "      <th>1</th>\n",
       "      <td>A00024535</td>\n",
       "      <td>V1</td>\n",
       "      <td>0.0</td>\n",
       "      <td>26.0</td>\n",
       "      <td>control</td>\n",
       "      <td>SCHIZCONNECT-VIP</td>\n",
       "      <td>MRN</td>\n",
       "      <td>1700.601735</td>\n",
       "      <td>399.493745</td>\n",
       "      <td>721.128411</td>\n",
       "      <td>579.446172</td>\n",
       "    </tr>\n",
       "    <tr>\n",
       "      <th>2</th>\n",
       "      <td>CC7563</td>\n",
       "      <td>V1</td>\n",
       "      <td>1.0</td>\n",
       "      <td>28.0</td>\n",
       "      <td>control</td>\n",
       "      <td>SCHIZCONNECT-VIP</td>\n",
       "      <td>WUSTL</td>\n",
       "      <td>1449.327365</td>\n",
       "      <td>220.825294</td>\n",
       "      <td>661.028439</td>\n",
       "      <td>566.500051</td>\n",
       "    </tr>\n",
       "    <tr>\n",
       "      <th>3</th>\n",
       "      <td>CC3945</td>\n",
       "      <td>V1</td>\n",
       "      <td>1.0</td>\n",
       "      <td>21.0</td>\n",
       "      <td>control</td>\n",
       "      <td>SCHIZCONNECT-VIP</td>\n",
       "      <td>WUSTL</td>\n",
       "      <td>1184.699000</td>\n",
       "      <td>201.579922</td>\n",
       "      <td>560.051329</td>\n",
       "      <td>423.016129</td>\n",
       "    </tr>\n",
       "    <tr>\n",
       "      <th>4</th>\n",
       "      <td>CH8853b</td>\n",
       "      <td>V1</td>\n",
       "      <td>1.0</td>\n",
       "      <td>21.0</td>\n",
       "      <td>control</td>\n",
       "      <td>SCHIZCONNECT-VIP</td>\n",
       "      <td>NU</td>\n",
       "      <td>1518.198466</td>\n",
       "      <td>291.544632</td>\n",
       "      <td>705.384606</td>\n",
       "      <td>520.807601</td>\n",
       "    </tr>\n",
       "  </tbody>\n",
       "</table>\n",
       "</div>"
      ],
      "text/plain": [
       "  participant_id session  sex   age      diagnosis             study   site  \\\n",
       "0        CH7098a      V1  0.0  20.0  schizophrenia  SCHIZCONNECT-VIP     NU   \n",
       "1      A00024535      V1  0.0  26.0        control  SCHIZCONNECT-VIP    MRN   \n",
       "2         CC7563      V1  1.0  28.0        control  SCHIZCONNECT-VIP  WUSTL   \n",
       "3         CC3945      V1  1.0  21.0        control  SCHIZCONNECT-VIP  WUSTL   \n",
       "4        CH8853b      V1  1.0  21.0        control  SCHIZCONNECT-VIP     NU   \n",
       "\n",
       "           TIV     CSF_Vol      GM_Vol      WM_Vol  \n",
       "0  1712.357084  375.529152  747.089338  586.391159  \n",
       "1  1700.601735  399.493745  721.128411  579.446172  \n",
       "2  1449.327365  220.825294  661.028439  566.500051  \n",
       "3  1184.699000  201.579922  560.051329  423.016129  \n",
       "4  1518.198466  291.544632  705.384606  520.807601  "
      ]
     },
     "execution_count": 5,
     "metadata": {},
     "output_type": "execute_result"
    }
   ],
   "source": [
    "train_participants.head()"
   ]
  },
  {
   "cell_type": "code",
   "execution_count": 9,
   "metadata": {},
   "outputs": [
    {
     "name": "stdout",
     "output_type": "stream",
     "text": [
      "Colonnes disponibles : ['participant_id', 'session', 'sex', 'age', 'diagnosis', 'study', 'site', 'TIV', 'CSF_Vol', 'GM_Vol', 'WM_Vol']\n",
      "Répartition des classes :\n",
      "diagnosis\n",
      "control          222\n",
      "schizophrenia    188\n",
      "Name: count, dtype: int64\n"
     ]
    }
   ],
   "source": [
    "print(\"Colonnes disponibles :\", train_participants.columns.tolist())\n",
    "\n",
    "# Vérifier la distribution des classes\n",
    "if 'diagnosis' in train_participants.columns:\n",
    "    print(\"Répartition des classes :\")\n",
    "    print(train_participants['diagnosis'].value_counts())"
   ]
  },
  {
   "cell_type": "code",
   "execution_count": 7,
   "metadata": {},
   "outputs": [
    {
     "name": "stdout",
     "output_type": "stream",
     "text": [
      "Statistiques descriptives :\n"
     ]
    },
    {
     "data": {
      "text/html": [
       "<div>\n",
       "<style scoped>\n",
       "    .dataframe tbody tr th:only-of-type {\n",
       "        vertical-align: middle;\n",
       "    }\n",
       "\n",
       "    .dataframe tbody tr th {\n",
       "        vertical-align: top;\n",
       "    }\n",
       "\n",
       "    .dataframe thead th {\n",
       "        text-align: right;\n",
       "    }\n",
       "</style>\n",
       "<table border=\"1\" class=\"dataframe\">\n",
       "  <thead>\n",
       "    <tr style=\"text-align: right;\">\n",
       "      <th></th>\n",
       "      <th>participant_id</th>\n",
       "      <th>session</th>\n",
       "      <th>sex</th>\n",
       "      <th>age</th>\n",
       "      <th>diagnosis</th>\n",
       "      <th>study</th>\n",
       "      <th>site</th>\n",
       "      <th>TIV</th>\n",
       "      <th>CSF_Vol</th>\n",
       "      <th>GM_Vol</th>\n",
       "      <th>WM_Vol</th>\n",
       "    </tr>\n",
       "  </thead>\n",
       "  <tbody>\n",
       "    <tr>\n",
       "      <th>count</th>\n",
       "      <td>410</td>\n",
       "      <td>410</td>\n",
       "      <td>410.000000</td>\n",
       "      <td>410.000000</td>\n",
       "      <td>410</td>\n",
       "      <td>410</td>\n",
       "      <td>410</td>\n",
       "      <td>410.000000</td>\n",
       "      <td>410.000000</td>\n",
       "      <td>410.000000</td>\n",
       "      <td>410.000000</td>\n",
       "    </tr>\n",
       "    <tr>\n",
       "      <th>unique</th>\n",
       "      <td>410</td>\n",
       "      <td>1</td>\n",
       "      <td>NaN</td>\n",
       "      <td>NaN</td>\n",
       "      <td>2</td>\n",
       "      <td>1</td>\n",
       "      <td>3</td>\n",
       "      <td>NaN</td>\n",
       "      <td>NaN</td>\n",
       "      <td>NaN</td>\n",
       "      <td>NaN</td>\n",
       "    </tr>\n",
       "    <tr>\n",
       "      <th>top</th>\n",
       "      <td>NM1037</td>\n",
       "      <td>V1</td>\n",
       "      <td>NaN</td>\n",
       "      <td>NaN</td>\n",
       "      <td>control</td>\n",
       "      <td>SCHIZCONNECT-VIP</td>\n",
       "      <td>WUSTL</td>\n",
       "      <td>NaN</td>\n",
       "      <td>NaN</td>\n",
       "      <td>NaN</td>\n",
       "      <td>NaN</td>\n",
       "    </tr>\n",
       "    <tr>\n",
       "      <th>freq</th>\n",
       "      <td>1</td>\n",
       "      <td>410</td>\n",
       "      <td>NaN</td>\n",
       "      <td>NaN</td>\n",
       "      <td>222</td>\n",
       "      <td>410</td>\n",
       "      <td>215</td>\n",
       "      <td>NaN</td>\n",
       "      <td>NaN</td>\n",
       "      <td>NaN</td>\n",
       "      <td>NaN</td>\n",
       "    </tr>\n",
       "    <tr>\n",
       "      <th>mean</th>\n",
       "      <td>NaN</td>\n",
       "      <td>NaN</td>\n",
       "      <td>0.373171</td>\n",
       "      <td>33.068293</td>\n",
       "      <td>NaN</td>\n",
       "      <td>NaN</td>\n",
       "      <td>NaN</td>\n",
       "      <td>1426.838006</td>\n",
       "      <td>284.925073</td>\n",
       "      <td>625.844300</td>\n",
       "      <td>515.021569</td>\n",
       "    </tr>\n",
       "    <tr>\n",
       "      <th>std</th>\n",
       "      <td>NaN</td>\n",
       "      <td>NaN</td>\n",
       "      <td>0.484238</td>\n",
       "      <td>12.562225</td>\n",
       "      <td>NaN</td>\n",
       "      <td>NaN</td>\n",
       "      <td>NaN</td>\n",
       "      <td>151.554651</td>\n",
       "      <td>71.145473</td>\n",
       "      <td>74.888798</td>\n",
       "      <td>64.142373</td>\n",
       "    </tr>\n",
       "    <tr>\n",
       "      <th>min</th>\n",
       "      <td>NaN</td>\n",
       "      <td>NaN</td>\n",
       "      <td>0.000000</td>\n",
       "      <td>15.000000</td>\n",
       "      <td>NaN</td>\n",
       "      <td>NaN</td>\n",
       "      <td>NaN</td>\n",
       "      <td>1071.499793</td>\n",
       "      <td>144.985388</td>\n",
       "      <td>428.563675</td>\n",
       "      <td>365.082239</td>\n",
       "    </tr>\n",
       "    <tr>\n",
       "      <th>25%</th>\n",
       "      <td>NaN</td>\n",
       "      <td>NaN</td>\n",
       "      <td>0.000000</td>\n",
       "      <td>22.000000</td>\n",
       "      <td>NaN</td>\n",
       "      <td>NaN</td>\n",
       "      <td>NaN</td>\n",
       "      <td>1326.859179</td>\n",
       "      <td>230.153254</td>\n",
       "      <td>570.111862</td>\n",
       "      <td>472.678247</td>\n",
       "    </tr>\n",
       "    <tr>\n",
       "      <th>50%</th>\n",
       "      <td>NaN</td>\n",
       "      <td>NaN</td>\n",
       "      <td>0.000000</td>\n",
       "      <td>29.000000</td>\n",
       "      <td>NaN</td>\n",
       "      <td>NaN</td>\n",
       "      <td>NaN</td>\n",
       "      <td>1418.188807</td>\n",
       "      <td>276.078037</td>\n",
       "      <td>622.347001</td>\n",
       "      <td>508.949562</td>\n",
       "    </tr>\n",
       "    <tr>\n",
       "      <th>75%</th>\n",
       "      <td>NaN</td>\n",
       "      <td>NaN</td>\n",
       "      <td>1.000000</td>\n",
       "      <td>43.000000</td>\n",
       "      <td>NaN</td>\n",
       "      <td>NaN</td>\n",
       "      <td>NaN</td>\n",
       "      <td>1531.112130</td>\n",
       "      <td>325.382134</td>\n",
       "      <td>679.384591</td>\n",
       "      <td>559.481362</td>\n",
       "    </tr>\n",
       "    <tr>\n",
       "      <th>max</th>\n",
       "      <td>NaN</td>\n",
       "      <td>NaN</td>\n",
       "      <td>1.000000</td>\n",
       "      <td>65.000000</td>\n",
       "      <td>NaN</td>\n",
       "      <td>NaN</td>\n",
       "      <td>NaN</td>\n",
       "      <td>1852.574833</td>\n",
       "      <td>570.503425</td>\n",
       "      <td>889.396408</td>\n",
       "      <td>741.492388</td>\n",
       "    </tr>\n",
       "  </tbody>\n",
       "</table>\n",
       "</div>"
      ],
      "text/plain": [
       "       participant_id session         sex         age diagnosis  \\\n",
       "count             410     410  410.000000  410.000000       410   \n",
       "unique            410       1         NaN         NaN         2   \n",
       "top            NM1037      V1         NaN         NaN   control   \n",
       "freq                1     410         NaN         NaN       222   \n",
       "mean              NaN     NaN    0.373171   33.068293       NaN   \n",
       "std               NaN     NaN    0.484238   12.562225       NaN   \n",
       "min               NaN     NaN    0.000000   15.000000       NaN   \n",
       "25%               NaN     NaN    0.000000   22.000000       NaN   \n",
       "50%               NaN     NaN    0.000000   29.000000       NaN   \n",
       "75%               NaN     NaN    1.000000   43.000000       NaN   \n",
       "max               NaN     NaN    1.000000   65.000000       NaN   \n",
       "\n",
       "                   study   site          TIV     CSF_Vol      GM_Vol  \\\n",
       "count                410    410   410.000000  410.000000  410.000000   \n",
       "unique                 1      3          NaN         NaN         NaN   \n",
       "top     SCHIZCONNECT-VIP  WUSTL          NaN         NaN         NaN   \n",
       "freq                 410    215          NaN         NaN         NaN   \n",
       "mean                 NaN    NaN  1426.838006  284.925073  625.844300   \n",
       "std                  NaN    NaN   151.554651   71.145473   74.888798   \n",
       "min                  NaN    NaN  1071.499793  144.985388  428.563675   \n",
       "25%                  NaN    NaN  1326.859179  230.153254  570.111862   \n",
       "50%                  NaN    NaN  1418.188807  276.078037  622.347001   \n",
       "75%                  NaN    NaN  1531.112130  325.382134  679.384591   \n",
       "max                  NaN    NaN  1852.574833  570.503425  889.396408   \n",
       "\n",
       "            WM_Vol  \n",
       "count   410.000000  \n",
       "unique         NaN  \n",
       "top            NaN  \n",
       "freq           NaN  \n",
       "mean    515.021569  \n",
       "std      64.142373  \n",
       "min     365.082239  \n",
       "25%     472.678247  \n",
       "50%     508.949562  \n",
       "75%     559.481362  \n",
       "max     741.492388  "
      ]
     },
     "execution_count": 7,
     "metadata": {},
     "output_type": "execute_result"
    }
   ],
   "source": [
    "# Résumer les statistiques descriptives\n",
    "print(\"Statistiques descriptives :\")\n",
    "train_participants.describe(include='all')"
   ]
  },
  {
   "cell_type": "code",
   "execution_count": 12,
   "metadata": {},
   "outputs": [
    {
     "data": {
      "text/plain": [
       "'participant_id :Identifiant unique pour chaque participant.\\n\\nsession :Indique probablement une session d’étude (toutes marquées comme V1 ici, donc pas discriminante).\\n\\nsex :Codé binaire : 0 pour un sexe et 1 pour l\\'autre (non précisé mais souvent 0 = femme, 1 = homme).\\n\\nage :Âge des participants, allant de 15 à 65 ans.\\n\\ndiagnosis :Variable cible indiquant si le participant est un contrôle (control) ou diagnostiqué schizophrène (schizophrenia).\\n\\nstudy :Nom de l\\'étude (unique : \"SCHIZCONNECT-VIP\").\\n\\nsite :Le lieu de l’étude (3 sites différents).\\n\\nTIV, CSF_Vol, GM_Vol, WM_Vol :Mesures anatomiques cérébrales :\\n    TIV : Volume intracrânien total.\\n    CSF_Vol : Volume de liquide céphalorachidien.\\n    GM_Vol : Volume de matière grise.\\n    WM_Vol : Volume de matière blanche.'"
      ]
     },
     "execution_count": 12,
     "metadata": {},
     "output_type": "execute_result"
    }
   ],
   "source": [
    "\"\"\"participant_id :Identifiant unique pour chaque participant.\n",
    "\n",
    "session :Indique probablement une session d’étude (toutes marquées comme V1 ici, donc pas discriminante).\n",
    "\n",
    "sex :Codé binaire : 0 pour un sexe et 1 pour l'autre (non précisé mais souvent 0 = femme, 1 = homme).\n",
    "\n",
    "age :Âge des participants, allant de 15 à 65 ans.\n",
    "\n",
    "diagnosis :Variable cible indiquant si le participant est un contrôle (control) ou diagnostiqué schizophrène (schizophrenia).\n",
    "\n",
    "study :Nom de l'étude (unique : \"SCHIZCONNECT-VIP\").\n",
    "\n",
    "site :Le lieu de l’étude (3 sites différents).\n",
    "\n",
    "TIV, CSF_Vol, GM_Vol, WM_Vol :Mesures anatomiques cérébrales :\n",
    "    TIV : Volume intracrânien total.\n",
    "    CSF_Vol : Volume de liquide céphalorachidien.\n",
    "    GM_Vol : Volume de matière grise.\n",
    "    WM_Vol : Volume de matière blanche.\"\"\""
   ]
  },
  {
   "cell_type": "code",
   "execution_count": null,
   "metadata": {},
   "outputs": [],
   "source": [
    "\"\"\"Répartition des classes\n",
    "Control : 222 participants (54.1 %).\n",
    "Schizophrenia : 188 participants (45.9 %).\n",
    "L'ensemble est assez équilibré, ce qui est favorable pour la modélisation.\"\"\""
   ]
  },
  {
   "cell_type": "code",
   "execution_count": 13,
   "metadata": {},
   "outputs": [
    {
     "data": {
      "image/png": "[encoded data removed]",
      "text/plain": [
       "<Figure size 640x480 with 1 Axes>"
      ]
     },
     "metadata": {},
     "output_type": "display_data"
    },
    {
     "data": {
      "image/png": "[encoded data removed]",
      "text/plain": [
       "<Figure size 640x480 with 1 Axes>"
      ]
     },
     "metadata": {},
     "output_type": "display_data"
    },
    {
     "data": {
      "image/png": "[encoded data removed]",
      "text/plain": [
       "<Figure size 640x480 with 1 Axes>"
      ]
     },
     "metadata": {},
     "output_type": "display_data"
    },
    {
     "data": {
      "image/png": "[encoded data removed]",
      "text/plain": [
       "<Figure size 640x480 with 1 Axes>"
      ]
     },
     "metadata": {},
     "output_type": "display_data"
    },
    {
     "data": {
      "image/png": "[encoded data removed]",
      "text/plain": [
       "<Figure size 640x480 with 1 Axes>"
      ]
     },
     "metadata": {},
     "output_type": "display_data"
    }
   ],
   "source": [
    "import seaborn as sns\n",
    "import matplotlib.pyplot as plt\n",
    "\n",
    "# Distribution de l'âge par diagnostic\n",
    "sns.boxplot(x='diagnosis', y='age', data=train_participants)\n",
    "plt.title(\"Distribution de l'âge par diagnostic\")\n",
    "plt.show()\n",
    "\n",
    "# Distribution des volumes cérébraux\n",
    "volumes = ['TIV', 'CSF_Vol', 'GM_Vol', 'WM_Vol']\n",
    "for vol in volumes:\n",
    "    sns.boxplot(x='diagnosis', y=vol, data=train_participants)\n",
    "    plt.title(f\"Distribution de {vol} par diagnostic\")\n",
    "    plt.show()\n"
   ]
  },
  {
   "cell_type": "code",
   "execution_count": 14,
   "metadata": {},
   "outputs": [
    {
     "data": {
      "text/plain": [
       "\"\\nImpact potentiel : L'âge ne semble pas être un prédicteur majeur pour différencier les deux groupes.\\n\""
      ]
     },
     "execution_count": 14,
     "metadata": {},
     "output_type": "execute_result"
    }
   ],
   "source": [
    "\"\"\"Distribution de l'âge par diagnostic\n",
    "Impact potentiel : L'âge ne semble pas être un prédicteur majeur pour différencier les deux groupes.\n",
    "\"\"\"\n",
    "\n",
    "\"\"\"Distribution de TIV (Volume intracrânien total)\n",
    "Impact potentiel : TIV pourrait ne pas être discriminant\n",
    "\"\"\"\n",
    "\n",
    "\"\"\"Distribution de CSF_Vol (Volume de liquide céphalorachidien)\n",
    "Une légère différence est visible, avec un volume de CSF un peu plus élevé en moyenne chez les participants control.\n",
    "Impact potentiel : Cette caractéristique pourrait apporter une certaine information au modèle.\n",
    "\"\"\"\n",
    "\n",
    "\"\"\" Distribution de GM_Vol (Volume de matière grise)\n",
    "Le groupe control a un volume de matière grise significativement plus élevé que le groupe schizophrenia.\n",
    "Impact potentiel : Le volume de matière grise semble être un prédicteur important pour différencier les deux groupes.\n",
    "\"\"\"\n",
    "\n",
    "\"\"\" Distribution de WM_Vol (Volume de matière blanche)\n",
    "Distribution de WM_Vol (Volume de matière blanche)\n",
    "Impact potentiel : Cette variable pourrait avoir un impact limité pour discriminer les deux groupes.\n",
    "\"\"\""
   ]
  },
  {
   "cell_type": "code",
   "execution_count": 15,
   "metadata": {},
   "outputs": [
    {
     "name": "stdout",
     "output_type": "stream",
     "text": [
      "TIV : t-stat=1.45, p-val=0.1488\n",
      "CSF_Vol : t-stat=-3.37, p-val=0.0008\n",
      "GM_Vol : t-stat=5.86, p-val=0.0000\n",
      "WM_Vol : t-stat=0.56, p-val=0.5725\n"
     ]
    }
   ],
   "source": [
    "from scipy.stats import ttest_ind\n",
    "\n",
    "variables = ['TIV', 'CSF_Vol', 'GM_Vol', 'WM_Vol']\n",
    "for var in variables:\n",
    "    t_stat, p_val = ttest_ind(\n",
    "        train_participants[train_participants['diagnosis'] == 'control'][var],\n",
    "        train_participants[train_participants['diagnosis'] == 'schizophrenia'][var]\n",
    "    )\n",
    "    print(f\"{var} : t-stat={t_stat:.2f}, p-val={p_val:.4f}\")\n"
   ]
  },
  {
   "cell_type": "code",
   "execution_count": 16,
   "metadata": {},
   "outputs": [
    {
     "data": {
      "text/plain": [
       "\"WM_Vol (Volume de matière blanche)\\nLa p-value est supérieure à 0.05, indiquant qu'il n'y a pas de différence significative entre les groupes.\\nConclusion : WM_Vol n'est probablement pas discriminant.\\n\""
      ]
     },
     "execution_count": 16,
     "metadata": {},
     "output_type": "execute_result"
    }
   ],
   "source": [
    "\"\"\" TIV (Volume intracrânien total) \n",
    "La p-value est supérieure à 0.05, ce qui signifie qu'il n'y a pas de différence statistiquement significative entre les deux groupes.\n",
    "Conclusion : TIV ne semble pas être un bon prédicteur.\n",
    "\"\"\"\n",
    "\n",
    "\"\"\"CSF_Vol (Volume de liquide céphalorachidien)\n",
    "La p-value est inférieure à 0.05, indiquant une différence significative entre les groupes.\n",
    "Conclusion : CSF_Vol peut être un prédicteur pertinent.\n",
    "\"\"\"\n",
    "\n",
    "\"\"\"GM_Vol (Volume de matière grise)\n",
    "La p-value est extrêmement significative, confirmant une différence marquée entre les deux groupes.\n",
    "Conclusion : GM_Vol semble être le prédicteur le plus important.\n",
    "\"\"\"\n",
    "\n",
    "\"\"\"WM_Vol (Volume de matière blanche)\n",
    "La p-value est supérieure à 0.05, indiquant qu'il n'y a pas de différence significative entre les groupes.\n",
    "Conclusion : WM_Vol n'est probablement pas discriminant.\n",
    "\"\"\""
   ]
  },
  {
   "cell_type": "code",
   "execution_count": 17,
   "metadata": {},
   "outputs": [
    {
     "data": {
      "text/plain": [
       "' \\nSynthèse des résultats\\nParmi les variables analysées :\\n\\nPrédicteurs pertinents : CSF_Vol et GM_Vol.\\nPrédicteurs moins pertinents : TIV et WM_Vol\\n'"
      ]
     },
     "execution_count": 17,
     "metadata": {},
     "output_type": "execute_result"
    }
   ],
   "source": [
    "\"\"\" \n",
    "Synthèse des résultats\n",
    "Parmi les variables analysées :\n",
    "\n",
    "Prédicteurs pertinents : CSF_Vol et GM_Vol.\n",
    "Prédicteurs moins pertinents : TIV et WM_Vol\n",
    "\"\"\""
   ]
  },
  {
   "cell_type": "code",
   "execution_count": 21,
   "metadata": {},
   "outputs": [
    {
     "name": "stdout",
     "output_type": "stream",
     "text": [
      "ROC-AUC : 0.7543750000000001\n"
     ]
    }
   ],
   "source": [
    "from sklearn.ensemble import RandomForestClassifier\n",
    "from sklearn.model_selection import train_test_split\n",
    "from sklearn.metrics import roc_auc_score\n",
    "\n",
    "# Préparation des données\n",
    "X = train_participants[['age', 'TIV', 'CSF_Vol', 'GM_Vol', 'WM_Vol']]\n",
    "y = (train_participants['diagnosis'] == 'schizophrenia').astype(int)\n",
    "X_train, X_test, y_train, y_test = train_test_split(X, y, test_size=0.2, random_state=42)\n",
    "\n",
    "# Modélisation\n",
    "model = RandomForestClassifier(random_state=42)\n",
    "model.fit(X_train, y_train)\n",
    "\n",
    "# Évaluation\n",
    "y_pred = model.predict_proba(X_test)[:, 1]\n",
    "print(\"ROC-AUC :\", roc_auc_score(y_test, y_pred))\n"
   ]
  },
  {
   "cell_type": "code",
   "execution_count": 19,
   "metadata": {},
   "outputs": [
    {
     "name": "stdout",
     "output_type": "stream",
     "text": [
      "ROC-AUC : 0.6643749999999999\n"
     ]
    }
   ],
   "source": [
    "# Sélection des variables pertinentes\n",
    "X = train_participants[['age', 'CSF_Vol', 'GM_Vol']]\n",
    "y = (train_participants['diagnosis'] == 'schizophrenia').astype(int)\n",
    "\n",
    "# Modélisation (exemple avec régression logistique)\n",
    "from sklearn.linear_model import LogisticRegression\n",
    "from sklearn.model_selection import train_test_split\n",
    "from sklearn.metrics import roc_auc_score\n",
    "\n",
    "X_train, X_test, y_train, y_test = train_test_split(X, y, test_size=0.2, random_state=42)\n",
    "\n",
    "model = LogisticRegression()\n",
    "model.fit(X_train, y_train)\n",
    "y_pred = model.predict_proba(X_test)[:, 1]\n",
    "\n",
    "print(\"ROC-AUC :\", roc_auc_score(y_test, y_pred))\n"
   ]
  },
  {
   "cell_type": "code",
   "execution_count": 23,
   "metadata": {},
   "outputs": [
    {
     "name": "stdout",
     "output_type": "stream",
     "text": [
      "Meilleurs paramètres : {'max_depth': 20, 'min_samples_leaf': 4, 'min_samples_split': 2, 'n_estimators': 100}\n",
      "ROC-AUC après optimisation : 0.6965708864190837\n"
     ]
    }
   ],
   "source": [
    "X = train_participants[['age', 'CSF_Vol', 'GM_Vol']]\n",
    "from sklearn.model_selection import GridSearchCV\n",
    "\n",
    "param_grid = {\n",
    "    'n_estimators': [100, 200, 300],\n",
    "    'max_depth': [5, 10, 20],\n",
    "    'min_samples_split': [2, 5, 10],\n",
    "    'min_samples_leaf': [1, 2, 4]\n",
    "}\n",
    "\n",
    "grid_search = GridSearchCV(\n",
    "    estimator=RandomForestClassifier(random_state=42),\n",
    "    param_grid=param_grid,\n",
    "    cv=5,\n",
    "    scoring='roc_auc',\n",
    "    n_jobs=-1\n",
    ")\n",
    "grid_search.fit(X_train, y_train)\n",
    "print(\"Meilleurs paramètres :\", grid_search.best_params_)\n",
    "print(\"ROC-AUC après optimisation :\", grid_search.best_score_)\n"
   ]
  },
  {
   "cell_type": "code",
   "execution_count": 24,
   "metadata": {},
   "outputs": [
    {
     "name": "stdout",
     "output_type": "stream",
     "text": [
      "ROC-AUC avec régularisation : 0.695\n"
     ]
    }
   ],
   "source": [
    "model = LogisticRegression(penalty='l2', C=1.0, solver='liblinear', random_state=42)\n",
    "model.fit(X_train, y_train)\n",
    "y_pred = model.predict_proba(X_test)[:, 1]\n",
    "print(\"ROC-AUC avec régularisation :\", roc_auc_score(y_test, y_pred))\n"
   ]
  },
  {
   "cell_type": "code",
   "execution_count": 27,
   "metadata": {},
   "outputs": [
    {
     "name": "stdout",
     "output_type": "stream",
     "text": [
      "ROC-AUC (logistique avec L2, normalisation) : 0.66375\n",
      "ROC-AUC (logistique avec transformation polynomiale) : 0.68125\n",
      "          Feature  Coefficient\n",
      "2          GM_Vol    -0.774216\n",
      "1         CSF_Vol     0.537851\n",
      "4     age CSF_Vol    -0.473028\n",
      "5      age GM_Vol     0.374678\n",
      "0             age    -0.264162\n",
      "3           age^2     0.256573\n",
      "8        GM_Vol^2     0.217833\n",
      "7  CSF_Vol GM_Vol    -0.215844\n",
      "6       CSF_Vol^2    -0.013848\n"
     ]
    }
   ],
   "source": [
    "from sklearn.linear_model import LogisticRegression\n",
    "from sklearn.model_selection import train_test_split\n",
    "from sklearn.preprocessing import StandardScaler, PolynomialFeatures\n",
    "from sklearn.metrics import roc_auc_score\n",
    "\n",
    "# 1. Sélection des variables pertinentes\n",
    "X = train_participants[['age', 'CSF_Vol', 'GM_Vol']]\n",
    "y = (train_participants['diagnosis'] == 'schizophrenia').astype(int)\n",
    "\n",
    "# 2. Normalisation des variables\n",
    "scaler = StandardScaler()\n",
    "X_scaled = scaler.fit_transform(X)\n",
    "\n",
    "# 3. Split des données (train/test)\n",
    "X_train, X_test, y_train, y_test = train_test_split(X_scaled, y, test_size=0.2, random_state=42)\n",
    "\n",
    "# 4. Régression logistique de base (avec régularisation L2)\n",
    "model = LogisticRegression(penalty='l2', C=1.0, solver='liblinear', random_state=42)\n",
    "model.fit(X_train, y_train)\n",
    "y_pred = model.predict_proba(X_test)[:, 1]\n",
    "\n",
    "print(\"ROC-AUC (logistique avec L2, normalisation) :\", roc_auc_score(y_test, y_pred))\n",
    "\n",
    "# 5. Régression logistique avec transformation polynomiale\n",
    "poly = PolynomialFeatures(degree=2, include_bias=False)\n",
    "X_poly = poly.fit_transform(X_scaled)\n",
    "\n",
    "X_train_poly, X_test_poly, y_train_poly, y_test_poly = train_test_split(X_poly, y, test_size=0.2, random_state=42)\n",
    "model_poly = LogisticRegression(penalty='l2', C=1.0, solver='liblinear', random_state=42)\n",
    "model_poly.fit(X_train_poly, y_train_poly)\n",
    "y_pred_poly = model_poly.predict_proba(X_test_poly)[:, 1]\n",
    "\n",
    "print(\"ROC-AUC (logistique avec transformation polynomiale) :\", roc_auc_score(y_test_poly, y_pred_poly))\n",
    "\n",
    "# 6. Comparaison des coefficients pour interprétation\n",
    "feature_names = poly.get_feature_names_out(train_participants[['age', 'CSF_Vol', 'GM_Vol']].columns)\n",
    "coefficients = model_poly.coef_[0]\n",
    "\n",
    "# Afficher les 10 prédicteurs les plus importants\n",
    "import pandas as pd\n",
    "coef_df = pd.DataFrame({'Feature': feature_names, 'Coefficient': coefficients})\n",
    "coef_df = coef_df.sort_values(by='Coefficient', key=abs, ascending=False).head(10)\n",
    "print(coef_df)\n"
   ]
  },
  {
   "cell_type": "code",
   "execution_count": 28,
   "metadata": {},
   "outputs": [
    {
     "name": "stdout",
     "output_type": "stream",
     "text": [
      "Meilleurs paramètres : {'max_depth': None, 'min_samples_leaf': 4, 'min_samples_split': 10, 'n_estimators': 300}\n",
      "ROC-AUC après optimisation : 0.72375\n"
     ]
    }
   ],
   "source": [
    "from sklearn.model_selection import GridSearchCV\n",
    "\n",
    "# Définir une grille de paramètres\n",
    "param_grid = {\n",
    "    'n_estimators': [100, 200, 300],\n",
    "    'max_depth': [None, 10, 20, 30],\n",
    "    'min_samples_split': [2, 5, 10],\n",
    "    'min_samples_leaf': [1, 2, 4]\n",
    "}\n",
    "\n",
    "# Initialiser la recherche\n",
    "grid_search = GridSearchCV(\n",
    "    estimator=RandomForestClassifier(random_state=42),\n",
    "    param_grid=param_grid,\n",
    "    cv=5,\n",
    "    scoring='roc_auc',\n",
    "    n_jobs=-1\n",
    ")\n",
    "\n",
    "# Exécuter la recherche\n",
    "grid_search.fit(X_train, y_train)\n",
    "\n",
    "# Meilleurs hyperparamètres\n",
    "print(\"Meilleurs paramètres :\", grid_search.best_params_)\n",
    "\n",
    "# Réévaluation du modèle avec les meilleurs paramètres\n",
    "best_model = grid_search.best_estimator_\n",
    "y_pred_best = best_model.predict_proba(X_test)[:, 1]\n",
    "print(\"ROC-AUC après optimisation :\", roc_auc_score(y_test, y_pred_best))\n"
   ]
  },
  {
   "cell_type": "code",
   "execution_count": 31,
   "metadata": {},
   "outputs": [
    {
     "name": "stdout",
     "output_type": "stream",
     "text": [
      "ROC-AUC ajusté sur le test : 0.7468750000000001\n",
      "ROC-AUC moyen (10 folds) : 0.7082969280909783\n",
      "Scores en validation croisée : [0.67703349 0.79665072 0.79425837 0.67942584 0.57416268 0.75119617\n",
      " 0.75358852 0.63636364 0.66666667 0.75362319]\n"
     ]
    },
    {
     "data": {
      "image/png": "[encoded data removed]",
      "text/plain": [
       "<Figure size 640x480 with 1 Axes>"
      ]
     },
     "metadata": {},
     "output_type": "display_data"
    }
   ],
   "source": [
    "from sklearn.ensemble import RandomForestClassifier\n",
    "from sklearn.model_selection import train_test_split, cross_val_score\n",
    "from sklearn.metrics import roc_auc_score\n",
    "import pandas as pd\n",
    "import matplotlib.pyplot as plt\n",
    "\n",
    "# Préparation des données\n",
    "X = train_participants[['age', 'TIV', 'CSF_Vol', 'GM_Vol', 'WM_Vol']]\n",
    "y = (train_participants['diagnosis'] == 'schizophrenia').astype(int)\n",
    "\n",
    "# Division en ensembles d'entraînement et de test\n",
    "X_train, X_test, y_train, y_test = train_test_split(X, y, test_size=0.2, random_state=42)\n",
    "\n",
    "# Modèle ajusté avec paramètres légèrement moins restrictifs\n",
    "model = RandomForestClassifier(\n",
    "    n_estimators=300,\n",
    "    max_depth=None,\n",
    "    min_samples_split=5,  # Ajusté pour moins de régularisation\n",
    "    min_samples_leaf=2,  # Ajusté pour moins de régularisation\n",
    "    random_state=42\n",
    ")\n",
    "model.fit(X_train, y_train)\n",
    "\n",
    "# Évaluation sur le jeu de test\n",
    "y_pred = model.predict_proba(X_test)[:, 1]\n",
    "print(\"ROC-AUC ajusté sur le test :\", roc_auc_score(y_test, y_pred))\n",
    "\n",
    "# Validation croisée pour évaluer la robustesse\n",
    "cv_scores = cross_val_score(\n",
    "    model, X, y, cv=10, scoring='roc_auc'\n",
    ")\n",
    "print(\"ROC-AUC moyen (10 folds) :\", cv_scores.mean())\n",
    "\n",
    "print(\"Scores en validation croisée :\", cv_scores)\n",
    "\n",
    "# Importance des variables\n",
    "feature_importances = model.feature_importances_\n",
    "features = X.columns\n",
    "\n",
    "# Visualisation de l'importance des variables\n",
    "importance_df = pd.DataFrame({'Feature': features, 'Importance': feature_importances})\n",
    "importance_df = importance_df.sort_values(by='Importance', ascending=False)\n",
    "\n",
    "plt.barh(importance_df['Feature'], importance_df['Importance'])\n",
    "plt.xlabel('Importance')\n",
    "plt.title('Importance des variables - Random Forest')\n",
    "plt.show()\n"
   ]
  },
  {
   "cell_type": "code",
   "execution_count": 32,
   "metadata": {},
   "outputs": [
    {
     "name": "stdout",
     "output_type": "stream",
     "text": [
      "ROC-AUC (Gradient Boosting) : 0.715625\n"
     ]
    }
   ],
   "source": [
    "from sklearn.ensemble import GradientBoostingClassifier\n",
    "model_gb = GradientBoostingClassifier(random_state=42)\n",
    "model_gb.fit(X_train, y_train)\n",
    "y_pred_gb = model_gb.predict_proba(X_test)[:, 1]\n",
    "print(\"ROC-AUC (Gradient Boosting) :\", roc_auc_score(y_test, y_pred_gb))\n"
   ]
  },
  {
   "cell_type": "code",
   "execution_count": null,
   "metadata": {},
   "outputs": [],
   "source": []
  }
 ],
 "metadata": {
  "kernelspec": {
   "display_name": ".venv_ML",
   "language": "python",
   "name": "python3"
  },
  "language_info": {
   "codemirror_mode": {
    "name": "ipython",
    "version": 3
   },
   "file_extension": ".py",
   "mimetype": "text/x-python",
   "name": "python",
   "nbconvert_exporter": "python",
   "pygments_lexer": "ipython3",
   "version": "3.13.1"
  }
 },
 "nbformat": 4,
 "nbformat_minor": 2
}
